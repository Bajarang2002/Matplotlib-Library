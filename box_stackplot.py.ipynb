{
 "cells": [
  {
   "cell_type": "code",
   "execution_count": 7,
   "id": "f0bdde48",
   "metadata": {},
   "outputs": [
    {
     "data": {
      "text/html": [
       "<div>\n",
       "<style scoped>\n",
       "    .dataframe tbody tr th:only-of-type {\n",
       "        vertical-align: middle;\n",
       "    }\n",
       "\n",
       "    .dataframe tbody tr th {\n",
       "        vertical-align: top;\n",
       "    }\n",
       "\n",
       "    .dataframe thead th {\n",
       "        text-align: right;\n",
       "    }\n",
       "</style>\n",
       "<table border=\"1\" class=\"dataframe\">\n",
       "  <thead>\n",
       "    <tr style=\"text-align: right;\">\n",
       "      <th></th>\n",
       "      <th>title</th>\n",
       "      <th>artist</th>\n",
       "      <th>top genre</th>\n",
       "      <th>year</th>\n",
       "      <th>beats.per.minute</th>\n",
       "      <th>energy</th>\n",
       "      <th>danceability</th>\n",
       "      <th>loudness.dB</th>\n",
       "      <th>liveness</th>\n",
       "      <th>valance</th>\n",
       "      <th>length</th>\n",
       "      <th>acousticness</th>\n",
       "      <th>speechiness</th>\n",
       "      <th>popularity</th>\n",
       "    </tr>\n",
       "  </thead>\n",
       "  <tbody>\n",
       "    <tr>\n",
       "      <th>0</th>\n",
       "      <td>Blinding Lights</td>\n",
       "      <td>The Weeknd</td>\n",
       "      <td>canadian contemporary r&amp;b</td>\n",
       "      <td>2020</td>\n",
       "      <td>171</td>\n",
       "      <td>73</td>\n",
       "      <td>51</td>\n",
       "      <td>-6</td>\n",
       "      <td>9</td>\n",
       "      <td>33</td>\n",
       "      <td>200</td>\n",
       "      <td>0</td>\n",
       "      <td>6</td>\n",
       "      <td>91</td>\n",
       "    </tr>\n",
       "    <tr>\n",
       "      <th>1</th>\n",
       "      <td>Watermelon Sugar</td>\n",
       "      <td>Harry Styles</td>\n",
       "      <td>pop</td>\n",
       "      <td>2019</td>\n",
       "      <td>95</td>\n",
       "      <td>82</td>\n",
       "      <td>55</td>\n",
       "      <td>-4</td>\n",
       "      <td>34</td>\n",
       "      <td>56</td>\n",
       "      <td>174</td>\n",
       "      <td>12</td>\n",
       "      <td>5</td>\n",
       "      <td>88</td>\n",
       "    </tr>\n",
       "    <tr>\n",
       "      <th>2</th>\n",
       "      <td>Mood (feat. iann dior)</td>\n",
       "      <td>24kGoldn</td>\n",
       "      <td>cali rap</td>\n",
       "      <td>2021</td>\n",
       "      <td>91</td>\n",
       "      <td>72</td>\n",
       "      <td>70</td>\n",
       "      <td>-4</td>\n",
       "      <td>32</td>\n",
       "      <td>73</td>\n",
       "      <td>141</td>\n",
       "      <td>17</td>\n",
       "      <td>4</td>\n",
       "      <td>88</td>\n",
       "    </tr>\n",
       "    <tr>\n",
       "      <th>3</th>\n",
       "      <td>Someone You Loved</td>\n",
       "      <td>Lewis Capaldi</td>\n",
       "      <td>pop</td>\n",
       "      <td>2019</td>\n",
       "      <td>110</td>\n",
       "      <td>41</td>\n",
       "      <td>50</td>\n",
       "      <td>-6</td>\n",
       "      <td>11</td>\n",
       "      <td>45</td>\n",
       "      <td>182</td>\n",
       "      <td>75</td>\n",
       "      <td>3</td>\n",
       "      <td>86</td>\n",
       "    </tr>\n",
       "    <tr>\n",
       "      <th>4</th>\n",
       "      <td>Perfect</td>\n",
       "      <td>Ed Sheeran</td>\n",
       "      <td>pop</td>\n",
       "      <td>2017</td>\n",
       "      <td>95</td>\n",
       "      <td>45</td>\n",
       "      <td>60</td>\n",
       "      <td>-6</td>\n",
       "      <td>11</td>\n",
       "      <td>17</td>\n",
       "      <td>263</td>\n",
       "      <td>16</td>\n",
       "      <td>2</td>\n",
       "      <td>86</td>\n",
       "    </tr>\n",
       "    <tr>\n",
       "      <th>5</th>\n",
       "      <td>Believer</td>\n",
       "      <td>Imagine Dragons</td>\n",
       "      <td>modern rock</td>\n",
       "      <td>2017</td>\n",
       "      <td>125</td>\n",
       "      <td>78</td>\n",
       "      <td>78</td>\n",
       "      <td>-4</td>\n",
       "      <td>8</td>\n",
       "      <td>67</td>\n",
       "      <td>204</td>\n",
       "      <td>6</td>\n",
       "      <td>13</td>\n",
       "      <td>86</td>\n",
       "    </tr>\n",
       "    <tr>\n",
       "      <th>6</th>\n",
       "      <td>lovely (with Khalid)</td>\n",
       "      <td>Billie Eilish</td>\n",
       "      <td>electropop</td>\n",
       "      <td>2018</td>\n",
       "      <td>115</td>\n",
       "      <td>30</td>\n",
       "      <td>35</td>\n",
       "      <td>-10</td>\n",
       "      <td>10</td>\n",
       "      <td>12</td>\n",
       "      <td>200</td>\n",
       "      <td>93</td>\n",
       "      <td>3</td>\n",
       "      <td>86</td>\n",
       "    </tr>\n",
       "    <tr>\n",
       "      <th>7</th>\n",
       "      <td>Circles</td>\n",
       "      <td>Post Malone</td>\n",
       "      <td>dfw rap</td>\n",
       "      <td>2019</td>\n",
       "      <td>120</td>\n",
       "      <td>76</td>\n",
       "      <td>70</td>\n",
       "      <td>-3</td>\n",
       "      <td>9</td>\n",
       "      <td>55</td>\n",
       "      <td>215</td>\n",
       "      <td>19</td>\n",
       "      <td>4</td>\n",
       "      <td>86</td>\n",
       "    </tr>\n",
       "    <tr>\n",
       "      <th>8</th>\n",
       "      <td>Shape of You</td>\n",
       "      <td>Ed Sheeran</td>\n",
       "      <td>pop</td>\n",
       "      <td>2017</td>\n",
       "      <td>96</td>\n",
       "      <td>65</td>\n",
       "      <td>83</td>\n",
       "      <td>-3</td>\n",
       "      <td>9</td>\n",
       "      <td>93</td>\n",
       "      <td>234</td>\n",
       "      <td>58</td>\n",
       "      <td>8</td>\n",
       "      <td>85</td>\n",
       "    </tr>\n",
       "    <tr>\n",
       "      <th>9</th>\n",
       "      <td>Memories</td>\n",
       "      <td>Maroon 5</td>\n",
       "      <td>pop</td>\n",
       "      <td>2021</td>\n",
       "      <td>91</td>\n",
       "      <td>33</td>\n",
       "      <td>78</td>\n",
       "      <td>-7</td>\n",
       "      <td>8</td>\n",
       "      <td>60</td>\n",
       "      <td>189</td>\n",
       "      <td>84</td>\n",
       "      <td>6</td>\n",
       "      <td>85</td>\n",
       "    </tr>\n",
       "  </tbody>\n",
       "</table>\n",
       "</div>"
      ],
      "text/plain": [
       "                    title           artist                  top genre  year   \n",
       "0         Blinding Lights       The Weeknd  canadian contemporary r&b  2020  \\\n",
       "1        Watermelon Sugar     Harry Styles                        pop  2019   \n",
       "2  Mood (feat. iann dior)         24kGoldn                   cali rap  2021   \n",
       "3       Someone You Loved    Lewis Capaldi                        pop  2019   \n",
       "4                 Perfect       Ed Sheeran                        pop  2017   \n",
       "5                Believer  Imagine Dragons                modern rock  2017   \n",
       "6    lovely (with Khalid)    Billie Eilish                 electropop  2018   \n",
       "7                 Circles      Post Malone                    dfw rap  2019   \n",
       "8            Shape of You       Ed Sheeran                        pop  2017   \n",
       "9                Memories         Maroon 5                        pop  2021   \n",
       "\n",
       "   beats.per.minute  energy  danceability  loudness.dB  liveness  valance   \n",
       "0               171      73            51           -6         9       33  \\\n",
       "1                95      82            55           -4        34       56   \n",
       "2                91      72            70           -4        32       73   \n",
       "3               110      41            50           -6        11       45   \n",
       "4                95      45            60           -6        11       17   \n",
       "5               125      78            78           -4         8       67   \n",
       "6               115      30            35          -10        10       12   \n",
       "7               120      76            70           -3         9       55   \n",
       "8                96      65            83           -3         9       93   \n",
       "9                91      33            78           -7         8       60   \n",
       "\n",
       "   length  acousticness  speechiness  popularity  \n",
       "0     200             0            6          91  \n",
       "1     174            12            5          88  \n",
       "2     141            17            4          88  \n",
       "3     182            75            3          86  \n",
       "4     263            16            2          86  \n",
       "5     204             6           13          86  \n",
       "6     200            93            3          86  \n",
       "7     215            19            4          86  \n",
       "8     234            58            8          85  \n",
       "9     189            84            6          85  "
      ]
     },
     "execution_count": 7,
     "metadata": {},
     "output_type": "execute_result"
    }
   ],
   "source": [
    "import pandas as pd\n",
    "import numpy as np\n",
    "import matplotlib.pyplot as plt\n",
    "df = pd.read_csv(\"Top100moststreamed.csv\")\n",
    "df.head(10)"
   ]
  },
  {
   "cell_type": "code",
   "execution_count": 4,
   "id": "26687d44",
   "metadata": {},
   "outputs": [
    {
     "name": "stdout",
     "output_type": "stream",
     "text": [
      "[12, 14, 15, 16, 17, 8, 9, 16, 13, 14, 6, 7, 13, 19, 12, 11, 10, 5, 4, 13]\n",
      "20\n"
     ]
    }
   ],
   "source": [
    "x =[12,14,15,16,17,8,9,16,13,14,6,7,13,19,12,11,10,5,4,13]\n",
    "print(x)\n",
    "print(len(x))"
   ]
  },
  {
   "cell_type": "code",
   "execution_count": 11,
   "id": "9c2c94b5",
   "metadata": {},
   "outputs": [
    {
     "data": {
      "image/png": "[encoded data removed]",
      "text/plain": [
       "<Figure size 640x480 with 1 Axes>"
      ]
     },
     "metadata": {},
     "output_type": "display_data"
    }
   ],
   "source": [
    "plt.boxplot(x)\n",
    "plt.title('Box plot',fontsize=15,color='red')\n",
    "plt.grid()\n",
    "plt.show()"
   ]
  },
  {
   "cell_type": "code",
   "execution_count": 14,
   "id": "7f6b6847",
   "metadata": {},
   "outputs": [
    {
     "name": "stdout",
     "output_type": "stream",
     "text": [
      "Q1 8.75\n",
      "Q2 12.5\n",
      "Q3 14.25\n",
      "IQR 5.5\n",
      "max 22.5\n",
      "min 0.5\n",
      "[4, 5, 6, 7, 8, 9, 10, 11, 12, 12, 13, 13, 13, 14, 14, 15, 16, 16, 17, 19]\n"
     ]
    }
   ],
   "source": [
    "q1 = np.percentile(x,25)\n",
    "q2 = np.percentile(x,50)\n",
    "q3 = np.percentile(x,75)\n",
    "iqr = q3-q1\n",
    "print('Q1',q1)\n",
    "print('Q2',q2)\n",
    "print('Q3',q3)\n",
    "print('IQR',iqr)\n",
    "bmax =q3+1.5*iqr\n",
    "bmin = q1-1.5*iqr\n",
    "print('max',bmax)\n",
    "print('min',bmin)\n",
    "x.sort()\n",
    "print(x)"
   ]
  },
  {
   "cell_type": "code",
   "execution_count": 15,
   "id": "4f71b52a",
   "metadata": {},
   "outputs": [
    {
     "data": {
      "image/png": "[encoded data removed]",
      "text/plain": [
       "<Figure size 640x480 with 1 Axes>"
      ]
     },
     "metadata": {},
     "output_type": "display_data"
    }
   ],
   "source": [
    "plt.boxplot(df['popularity'])\n",
    "plt.grid()\n",
    "plt.show()"
   ]
  },
  {
   "cell_type": "code",
   "execution_count": 16,
   "id": "86a701a0",
   "metadata": {},
   "outputs": [
    {
     "data": {
      "image/png": "[encoded data removed]",
      "text/plain": [
       "<Figure size 640x480 with 1 Axes>"
      ]
     },
     "metadata": {},
     "output_type": "display_data"
    }
   ],
   "source": [
    "plt.boxplot(df['length'])\n",
    "plt.grid()\n",
    "plt.show()"
   ]
  },
  {
   "cell_type": "code",
   "execution_count": 35,
   "id": "7f0cdb1f",
   "metadata": {},
   "outputs": [
    {
     "data": {
      "text/html": [
       "<div>\n",
       "<style scoped>\n",
       "    .dataframe tbody tr th:only-of-type {\n",
       "        vertical-align: middle;\n",
       "    }\n",
       "\n",
       "    .dataframe tbody tr th {\n",
       "        vertical-align: top;\n",
       "    }\n",
       "\n",
       "    .dataframe thead th {\n",
       "        text-align: right;\n",
       "    }\n",
       "</style>\n",
       "<table border=\"1\" class=\"dataframe\">\n",
       "  <thead>\n",
       "    <tr style=\"text-align: right;\">\n",
       "      <th></th>\n",
       "      <th>beats.per.minute</th>\n",
       "      <th>energy</th>\n",
       "      <th>popularity</th>\n",
       "    </tr>\n",
       "    <tr>\n",
       "      <th>year</th>\n",
       "      <th></th>\n",
       "      <th></th>\n",
       "      <th></th>\n",
       "    </tr>\n",
       "  </thead>\n",
       "  <tbody>\n",
       "    <tr>\n",
       "      <th>1975</th>\n",
       "      <td>71.000000</td>\n",
       "      <td>40.000000</td>\n",
       "      <td>81.000000</td>\n",
       "    </tr>\n",
       "    <tr>\n",
       "      <th>1995</th>\n",
       "      <td>174.000000</td>\n",
       "      <td>90.000000</td>\n",
       "      <td>77.000000</td>\n",
       "    </tr>\n",
       "    <tr>\n",
       "      <th>2004</th>\n",
       "      <td>148.000000</td>\n",
       "      <td>91.000000</td>\n",
       "      <td>81.000000</td>\n",
       "    </tr>\n",
       "    <tr>\n",
       "      <th>2008</th>\n",
       "      <td>151.000000</td>\n",
       "      <td>46.000000</td>\n",
       "      <td>80.000000</td>\n",
       "    </tr>\n",
       "    <tr>\n",
       "      <th>2012</th>\n",
       "      <td>124.000000</td>\n",
       "      <td>80.333333</td>\n",
       "      <td>79.333333</td>\n",
       "    </tr>\n",
       "    <tr>\n",
       "      <th>2013</th>\n",
       "      <td>110.500000</td>\n",
       "      <td>57.250000</td>\n",
       "      <td>80.500000</td>\n",
       "    </tr>\n",
       "    <tr>\n",
       "      <th>2014</th>\n",
       "      <td>112.166667</td>\n",
       "      <td>56.333333</td>\n",
       "      <td>79.666667</td>\n",
       "    </tr>\n",
       "    <tr>\n",
       "      <th>2015</th>\n",
       "      <td>114.384615</td>\n",
       "      <td>65.076923</td>\n",
       "      <td>77.384615</td>\n",
       "    </tr>\n",
       "    <tr>\n",
       "      <th>2016</th>\n",
       "      <td>117.250000</td>\n",
       "      <td>63.687500</td>\n",
       "      <td>77.375000</td>\n",
       "    </tr>\n",
       "    <tr>\n",
       "      <th>2017</th>\n",
       "      <td>117.916667</td>\n",
       "      <td>64.666667</td>\n",
       "      <td>82.333333</td>\n",
       "    </tr>\n",
       "    <tr>\n",
       "      <th>2018</th>\n",
       "      <td>111.050000</td>\n",
       "      <td>60.400000</td>\n",
       "      <td>79.500000</td>\n",
       "    </tr>\n",
       "    <tr>\n",
       "      <th>2019</th>\n",
       "      <td>123.375000</td>\n",
       "      <td>58.437500</td>\n",
       "      <td>80.812500</td>\n",
       "    </tr>\n",
       "    <tr>\n",
       "      <th>2020</th>\n",
       "      <td>128.333333</td>\n",
       "      <td>73.666667</td>\n",
       "      <td>85.333333</td>\n",
       "    </tr>\n",
       "    <tr>\n",
       "      <th>2021</th>\n",
       "      <td>102.666667</td>\n",
       "      <td>62.666667</td>\n",
       "      <td>79.666667</td>\n",
       "    </tr>\n",
       "  </tbody>\n",
       "</table>\n",
       "</div>"
      ],
      "text/plain": [
       "      beats.per.minute     energy  popularity\n",
       "year                                         \n",
       "1975         71.000000  40.000000   81.000000\n",
       "1995        174.000000  90.000000   77.000000\n",
       "2004        148.000000  91.000000   81.000000\n",
       "2008        151.000000  46.000000   80.000000\n",
       "2012        124.000000  80.333333   79.333333\n",
       "2013        110.500000  57.250000   80.500000\n",
       "2014        112.166667  56.333333   79.666667\n",
       "2015        114.384615  65.076923   77.384615\n",
       "2016        117.250000  63.687500   77.375000\n",
       "2017        117.916667  64.666667   82.333333\n",
       "2018        111.050000  60.400000   79.500000\n",
       "2019        123.375000  58.437500   80.812500\n",
       "2020        128.333333  73.666667   85.333333\n",
       "2021        102.666667  62.666667   79.666667"
      ]
     },
     "execution_count": 35,
     "metadata": {},
     "output_type": "execute_result"
    }
   ],
   "source": [
    "r1 = df.groupby('year')[['beats.per.minute','energy','popularity']].mean()\n",
    "r1\n"
   ]
  },
  {
   "cell_type": "code",
   "execution_count": 26,
   "id": "17ccc4b3",
   "metadata": {},
   "outputs": [
    {
     "data": {
      "text/plain": [
       "Index([1975, 1995, 2004, 2008, 2012, 2013, 2014, 2015, 2016, 2017, 2018, 2019,\n",
       "       2020, 2021],\n",
       "      dtype='int64', name='year')"
      ]
     },
     "execution_count": 26,
     "metadata": {},
     "output_type": "execute_result"
    }
   ],
   "source": [
    "r2 = r1.index\n",
    "r2"
   ]
  },
  {
   "cell_type": "code",
   "execution_count": 36,
   "id": "926442e0",
   "metadata": {},
   "outputs": [
    {
     "data": {
      "image/png": "[encoded data removed]",
      "text/plain": [
       "<Figure size 640x480 with 1 Axes>"
      ]
     },
     "metadata": {},
     "output_type": "display_data"
    }
   ],
   "source": [
    "plt.bar(r2,r1['beats.per.minute'],color ='orange',label ='mean beats.per.minute',edgecolor ='black')\n",
    "plt.bar(r2,r1['energy'],color ='blue',label ='mean energy',edgecolor ='black')\n",
    "plt.xlabel('year')\n",
    "plt.legend()\n",
    "plt.grid()\n",
    "plt.xticks(rotation =90)\n",
    "plt.show()\n"
   ]
  },
  {
   "cell_type": "code",
   "execution_count": 41,
   "id": "ecf3615a",
   "metadata": {},
   "outputs": [
    {
     "data": {
      "image/png": "[encoded data removed]",
      "text/plain": [
       "<Figure size 640x480 with 1 Axes>"
      ]
     },
     "metadata": {},
     "output_type": "display_data"
    }
   ],
   "source": [
    "plt.stackplot(r2,r1['beats.per.minute'],r1['energy'],r1['popularity'],labels=['beats.per.minute','energy','popularity'])\n",
    "plt.xlabel('year')\n",
    "plt.title(\"STACKPLOT\",fontsize=15,color='red')\n",
    "plt.xticks(rotation=90)\n",
    "plt.legend()\n",
    "plt.show()"
   ]
  },
  {
   "cell_type": "code",
   "execution_count": null,
   "id": "18eec8e9",
   "metadata": {},
   "outputs": [],
   "source": []
  },
  {
   "cell_type": "code",
   "execution_count": null,
   "id": "1b4517b9",
   "metadata": {},
   "outputs": [],
   "source": []
  },
  {
   "cell_type": "code",
   "execution_count": null,
   "id": "6afabe67",
   "metadata": {},
   "outputs": [],
   "source": []
  }
 ],
 "metadata": {
  "kernelspec": {
   "display_name": "Python 3 (ipykernel)",
   "language": "python",
   "name": "python3"
  },
  "language_info": {
   "codemirror_mode": {
    "name": "ipython",
    "version": 3
   },
   "file_extension": ".py",
   "mimetype": "text/x-python",
   "name": "python",
   "nbconvert_exporter": "python",
   "pygments_lexer": "ipython3",
   "version": "3.11.3"
  }
 },
 "nbformat": 4,
 "nbformat_minor": 5
}
